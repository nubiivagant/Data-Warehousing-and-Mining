{
 "cells": [
  {
   "cell_type": "code",
   "execution_count": 5,
   "id": "e5f173d5-d468-4464-88b7-d180f8e71dde",
   "metadata": {},
   "outputs": [
    {
     "name": "stdout",
     "output_type": "stream",
     "text": [
      "Requirement already satisfied: apyori in c:\\users\\hp\\anaconda3\\lib\\site-packages (1.1.2)\n"
     ]
    }
   ],
   "source": [
    "!pip install apyori"
   ]
  },
  {
   "cell_type": "code",
   "execution_count": 6,
   "id": "fe3f89b3-026c-4019-a7ae-a6616b2eef7b",
   "metadata": {},
   "outputs": [],
   "source": [
    "import numpy as np\n",
    "import pandas as pd\n",
    "from apyori import apriori"
   ]
  },
  {
   "cell_type": "code",
   "execution_count": 11,
   "id": "fd6b035b-ac11-4c80-9b83-2991cdf66b82",
   "metadata": {},
   "outputs": [],
   "source": [
    "#load dataset\n",
    "store_data = pd.read_excel('Employee_Data.xls')"
   ]
  },
  {
   "cell_type": "code",
   "execution_count": 12,
   "id": "ad4a4157-f03a-49d6-8aa1-9033334a6931",
   "metadata": {},
   "outputs": [
    {
     "name": "stdout",
     "output_type": "stream",
     "text": [
      "    Employee Id First Name   Last Name                Department   Age  \\\n",
      "0             1     Camden      Savage          Asset Management  38.0   \n",
      "1             2    Justina   Mcconnell          Customer Service  26.0   \n",
      "2             3    Stewart        Moon           Human Resources   NaN   \n",
      "3             4     Tobias    Fletcher          Public Relations   NaN   \n",
      "4             5       Raja        Sims          Customer Service   NaN   \n",
      "..          ...        ...         ...                       ...   ...   \n",
      "95           96      Nerea       Haney              Tech Support  52.0   \n",
      "96           97     Nadine      Franks        Customer Relations  52.0   \n",
      "97           98     Aquila    Jacobson         Quality Assurance  30.0   \n",
      "98           99       Wang       Doyle  Research and Development  32.0   \n",
      "99          100       Beau  Richardson         Quality Assurance  46.0   \n",
      "\n",
      "    Experience  Salary  \n",
      "0         23.0   46975  \n",
      "1         10.0   30711  \n",
      "2         14.0   25049  \n",
      "3         12.0   33309  \n",
      "4         13.0   25274  \n",
      "..         ...     ...  \n",
      "95        16.0   17756  \n",
      "96         3.0   31886  \n",
      "97         5.0   39812  \n",
      "98        27.0   30742  \n",
      "99        24.0   30128  \n",
      "\n",
      "[100 rows x 7 columns]\n"
     ]
    }
   ],
   "source": [
    "print(store_data)"
   ]
  },
  {
   "cell_type": "code",
   "execution_count": 13,
   "id": "20dae5ab-b34a-4026-94c3-1a7a9bb9233a",
   "metadata": {},
   "outputs": [
    {
     "data": {
      "text/plain": [
       "(100, 7)"
      ]
     },
     "execution_count": 13,
     "metadata": {},
     "output_type": "execute_result"
    }
   ],
   "source": [
    "#find shape of dataset\n",
    "store_data.shape"
   ]
  },
  {
   "cell_type": "code",
   "execution_count": 14,
   "id": "3c184d58-8be3-49f7-a4b3-8a4cd5a64887",
   "metadata": {},
   "outputs": [],
   "source": [
    "records=[]\n",
    "for i in range(0,22):\n",
    "  records.append([str(store_data.values[i,j]) for j in range(0,6)])"
   ]
  },
  {
   "cell_type": "code",
   "execution_count": 15,
   "id": "27a6ff8d-bf5c-46d5-b00c-2c17a7a3c95e",
   "metadata": {},
   "outputs": [
    {
     "data": {
      "text/plain": [
       "[['1', 'Camden', 'Savage', 'Asset Management', '38.0', '23.0'],\n",
       " ['2', 'Justina', 'Mcconnell', 'Customer Service', '26.0', '10.0'],\n",
       " ['3', 'Stewart', 'Moon', 'Human Resources', 'nan', '14.0'],\n",
       " ['4', 'Tobias', 'Fletcher', 'Public Relations', 'nan', '12.0'],\n",
       " ['5', 'Raja', 'Sims', 'Customer Service', 'nan', '13.0'],\n",
       " ['6', 'Kirsten', 'Douglas', 'Advertising', 'nan', '9.0'],\n",
       " ['7', 'Kylee', 'Lindsay', 'Research and Development', 'nan', '24.0'],\n",
       " ['8', 'Deborah', 'Price', 'Asset Management', 'nan', '2.0'],\n",
       " ['9', 'Imogene', 'Ochoa', 'Legal Department', '40.0', '30.0'],\n",
       " ['10', 'Justin', 'Keith', 'Advertising', '24.0', '23.0'],\n",
       " ['11', 'Daniel', 'Hughes', 'Legal Department', '35.0', '3.0'],\n",
       " ['12', 'Josephine', 'Kirk', 'nan', '31.0', 'nan'],\n",
       " ['13', 'Linus', 'Mendez', 'nan', '58.0', 'nan'],\n",
       " ['14', 'Paloma', 'Ryan', 'nan', '51.0', 'nan'],\n",
       " ['15', 'Colin', 'Boyd', 'nan', '27.0', 'nan'],\n",
       " ['16', 'Linda', 'Burke', 'nan', '54.0', 'nan'],\n",
       " ['17', 'Sarah', 'Page', 'nan', '55.0', 'nan'],\n",
       " ['18', 'Casey', 'Parks', 'Media Relations', '58.0', 'nan'],\n",
       " ['19', 'Blair', 'Skinner', 'Research and Development', '59.0', 'nan'],\n",
       " ['20', 'Melinda', 'Bray', 'Media Relations', '45.0', '4.0'],\n",
       " ['21', 'Roary', 'Gomez', 'Sales and Marketing', '50.0', '2.0'],\n",
       " ['22', 'Devin', 'Silva', 'Advertising', '55.0', '19.0']]"
      ]
     },
     "execution_count": 15,
     "metadata": {},
     "output_type": "execute_result"
    }
   ],
   "source": [
    "records"
   ]
  },
  {
   "cell_type": "code",
   "execution_count": 16,
   "id": "60bacc0a-7173-464c-b7e9-c0cc965cb21b",
   "metadata": {},
   "outputs": [],
   "source": [
    "association_rules = apriori(records, min_support=0.50, min_confidence=0.7, min_lift=1.2, min_length=2)\n",
    "association_results = list(association_rules)"
   ]
  },
  {
   "cell_type": "code",
   "execution_count": 17,
   "id": "42ffa8e7-1dd2-46c3-8ec6-61429282f1c6",
   "metadata": {},
   "outputs": [
    {
     "name": "stdout",
     "output_type": "stream",
     "text": [
      "0\n"
     ]
    }
   ],
   "source": [
    "print(len(association_results))"
   ]
  },
  {
   "cell_type": "code",
   "execution_count": 18,
   "id": "0cbb0990-2fc1-4c1f-8a74-5fae89f228a3",
   "metadata": {},
   "outputs": [
    {
     "name": "stdout",
     "output_type": "stream",
     "text": [
      "[]\n"
     ]
    }
   ],
   "source": [
    "print(association_results)"
   ]
  },
  {
   "cell_type": "code",
   "execution_count": 19,
   "id": "2dc5f5ef-7b3f-4ab7-a139-3d1fd4d67f87",
   "metadata": {},
   "outputs": [],
   "source": [
    "store_data = pd.read_csv(\"IRIS.csv\")"
   ]
  },
  {
   "cell_type": "code",
   "execution_count": 20,
   "id": "dbd2f1a6-df95-4e1c-8838-08bb71098c43",
   "metadata": {},
   "outputs": [
    {
     "name": "stdout",
     "output_type": "stream",
     "text": [
      "     sepal_length  sepal_width  petal_length  petal_width         species\n",
      "0             5.1          3.5           1.4          0.2     Iris-setosa\n",
      "1             4.9          3.0           1.4          0.2     Iris-setosa\n",
      "2             4.7          3.2           1.3          0.2     Iris-setosa\n",
      "3             4.6          3.1           1.5          0.2     Iris-setosa\n",
      "4             5.0          3.6           1.4          0.2     Iris-setosa\n",
      "..            ...          ...           ...          ...             ...\n",
      "145           6.7          3.0           5.2          2.3  Iris-virginica\n",
      "146           6.3          2.5           5.0          1.9  Iris-virginica\n",
      "147           6.5          3.0           5.2          2.0  Iris-virginica\n",
      "148           6.2          3.4           5.4          2.3  Iris-virginica\n",
      "149           5.9          3.0           5.1          1.8  Iris-virginica\n",
      "\n",
      "[150 rows x 5 columns]\n"
     ]
    }
   ],
   "source": [
    "print(store_data)"
   ]
  },
  {
   "cell_type": "code",
   "execution_count": 21,
   "id": "a767d4c0-d199-4725-8782-2ebaa0635542",
   "metadata": {},
   "outputs": [
    {
     "data": {
      "text/plain": [
       "(150, 5)"
      ]
     },
     "execution_count": 21,
     "metadata": {},
     "output_type": "execute_result"
    }
   ],
   "source": [
    "#find shape of dataset\n",
    "store_data.shape"
   ]
  },
  {
   "cell_type": "code",
   "execution_count": 24,
   "id": "01d989cc-2a78-4120-8881-7c60c7d820db",
   "metadata": {},
   "outputs": [],
   "source": [
    "records=[]\n",
    "for i in range(0,22):\n",
    "  records.append([str(store_data.values[i,j]) for j in range(0,4)])"
   ]
  },
  {
   "cell_type": "code",
   "execution_count": 25,
   "id": "df1ce385-9eb7-45d9-8d63-86ef0a7f49ed",
   "metadata": {},
   "outputs": [
    {
     "data": {
      "text/plain": [
       "[['5.1', '3.5', '1.4', '0.2'],\n",
       " ['4.9', '3.0', '1.4', '0.2'],\n",
       " ['4.7', '3.2', '1.3', '0.2'],\n",
       " ['4.6', '3.1', '1.5', '0.2'],\n",
       " ['5.0', '3.6', '1.4', '0.2'],\n",
       " ['5.4', '3.9', '1.7', '0.4'],\n",
       " ['4.6', '3.4', '1.4', '0.3'],\n",
       " ['5.0', '3.4', '1.5', '0.2'],\n",
       " ['4.4', '2.9', '1.4', '0.2'],\n",
       " ['4.9', '3.1', '1.5', '0.1'],\n",
       " ['5.4', '3.7', '1.5', '0.2'],\n",
       " ['4.8', '3.4', '1.6', '0.2'],\n",
       " ['4.8', '3.0', '1.4', '0.1'],\n",
       " ['4.3', '3.0', '1.1', '0.1'],\n",
       " ['5.8', '4.0', '1.2', '0.2'],\n",
       " ['5.7', '4.4', '1.5', '0.4'],\n",
       " ['5.4', '3.9', '1.3', '0.4'],\n",
       " ['5.1', '3.5', '1.4', '0.3'],\n",
       " ['5.7', '3.8', '1.7', '0.3'],\n",
       " ['5.1', '3.8', '1.5', '0.3'],\n",
       " ['5.4', '3.4', '1.7', '0.2'],\n",
       " ['5.1', '3.7', '1.5', '0.4']]"
      ]
     },
     "execution_count": 25,
     "metadata": {},
     "output_type": "execute_result"
    }
   ],
   "source": [
    "records"
   ]
  },
  {
   "cell_type": "code",
   "execution_count": 26,
   "id": "dda94ea3-cca8-4d84-9ea4-c0085db772da",
   "metadata": {},
   "outputs": [],
   "source": [
    "association_rules = apriori(records, min_support=0.50, min_confidence=0.7, min_lift=1.2, min_length=2)\n",
    "association_results = list(association_rules)"
   ]
  },
  {
   "cell_type": "code",
   "execution_count": 27,
   "id": "eb423036-e956-4508-9c6f-4a5ab14b85ff",
   "metadata": {},
   "outputs": [
    {
     "name": "stdout",
     "output_type": "stream",
     "text": [
      "0\n"
     ]
    }
   ],
   "source": [
    "print(len(association_results))"
   ]
  },
  {
   "cell_type": "code",
   "execution_count": 28,
   "id": "3bb10d2a-c10c-4cd7-8efa-d5321e667141",
   "metadata": {},
   "outputs": [
    {
     "name": "stdout",
     "output_type": "stream",
     "text": [
      "[]\n"
     ]
    }
   ],
   "source": [
    "print(association_results)"
   ]
  }
 ],
 "metadata": {
  "kernelspec": {
   "display_name": "Python 3 (ipykernel)",
   "language": "python",
   "name": "python3"
  },
  "language_info": {
   "codemirror_mode": {
    "name": "ipython",
    "version": 3
   },
   "file_extension": ".py",
   "mimetype": "text/x-python",
   "name": "python",
   "nbconvert_exporter": "python",
   "pygments_lexer": "ipython3",
   "version": "3.12.7"
  }
 },
 "nbformat": 4,
 "nbformat_minor": 5
}
